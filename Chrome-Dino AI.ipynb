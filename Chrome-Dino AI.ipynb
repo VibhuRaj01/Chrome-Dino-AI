{
 "cells": [
  {
   "cell_type": "code",
   "execution_count": 1,
   "id": "9e1e1fca-4583-4b97-a62c-579a77cf7d18",
   "metadata": {},
   "outputs": [],
   "source": [
    "from mss import mss\n",
    "import pydirectinput \n",
    "import cv2\n",
    "import numpy as np\n",
    "import pytesseract\n",
    "import matplotlib.pyplot as plt\n",
    "import time\n",
    "from gym import Env\n",
    "from gym.spaces import Box, Discrete"
   ]
  },
  {
   "cell_type": "code",
   "execution_count": 2,
   "id": "1b7bbcc4-a8a4-429a-a258-ab519ac45884",
   "metadata": {},
   "outputs": [],
   "source": [
    "class dino(Env):\n",
    "    def __init__(self):\n",
    "        super().__init__()\n",
    "        \n",
    "        self.observation_space=Box(low=0,high=255,shape=(1,83,100),dtype=np.uint8)\n",
    "        self.action_space=Discrete(3)\n",
    "        \n",
    "        self.cap=mss()\n",
    "        self.game_location = {'top': 300, 'left': 0, 'width': 600, 'height': 500}\n",
    "        self.done_location = {'top': 370, 'left': 630, 'width': 660, 'height': 70}\n",
    "        \n",
    "    def step(self, action):\n",
    "        action_map={\n",
    "            0:'space',\n",
    "            1:'down',\n",
    "            2:'no_op'\n",
    "        }\n",
    "        \n",
    "        if action !=2:\n",
    "            pydirectinput.press(action_map[action])\n",
    "        \n",
    "        done, done_cap=self.get_done()\n",
    "        new_observation=self.get_observation()\n",
    "        \n",
    "        reward=1\n",
    "        info={}\n",
    "        \n",
    "        return new_observation, reward, done, info\n",
    "    \n",
    "    def reset(self):\n",
    "        time.sleep(1)\n",
    "        pydirectinput.click(x=150,y=150)\n",
    "        pydirectinput.press('space')\n",
    "        return self.get_observation()\n",
    "        \n",
    "    def render(self):\n",
    "        cv2.imshow('game',np.array(self.cap.grab(self.game_location))[:,:,:3])\n",
    "        if cv2.waitKey(1) & 0xFF==ord('q'):\n",
    "                   self.close()\n",
    "    def close(self):\n",
    "        cv2.destroyAllWindows()\n",
    "        \n",
    "    def get_observation(self):\n",
    "        raw=np.array(self.cap.grab(self.game_location))[:,:,:3]\n",
    "        gray=cv2.cvtColor(raw,cv2.COLOR_BGR2GRAY)\n",
    "        resized=cv2.resize(gray,(100,83))\n",
    "        channel=np.reshape(resized,(1,83,100))\n",
    "        \n",
    "        return channel\n",
    "    def get_done(self):\n",
    "        done_cap=np.array(self.cap.grab(self.done_location))[:,:,:3]\n",
    "        done_strings=['GAME','GAHE']\n",
    "        \n",
    "        done=False\n",
    "        res=pytesseract.image_to_string(done_cap)[:4]\n",
    "        if res in done_strings:\n",
    "            done=True\n",
    "        return done, done_cap"
   ]
  },
  {
   "cell_type": "code",
   "execution_count": 3,
   "id": "b07ee5c9-69c6-4846-9324-7ac600dd8669",
   "metadata": {},
   "outputs": [],
   "source": [
    "env=dino()"
   ]
  },
  {
   "cell_type": "code",
   "execution_count": 4,
   "id": "c54bc41b-2ab9-471a-81ed-637a31219ae7",
   "metadata": {},
   "outputs": [
    {
     "data": {
      "text/plain": [
       "<matplotlib.image.AxesImage at 0x1a812c4c370>"
      ]
     },
     "execution_count": 4,
     "metadata": {},
     "output_type": "execute_result"
    },
    {
     "data": {
      "image/png": "[encoded data removed]",
      "text/plain": [
       "<Figure size 640x480 with 1 Axes>"
      ]
     },
     "metadata": {},
     "output_type": "display_data"
    }
   ],
   "source": [
    "plt.imshow(env.get_observation()[0])"
   ]
  },
  {
   "cell_type": "code",
   "execution_count": 5,
   "id": "9b8e2362-c351-4269-9666-bb1927ac0a8d",
   "metadata": {},
   "outputs": [
    {
     "data": {
      "text/plain": [
       "<matplotlib.image.AxesImage at 0x1a8137c27d0>"
      ]
     },
     "execution_count": 5,
     "metadata": {},
     "output_type": "execute_result"
    },
    {
     "data": {
      "image/png": "[encoded data removed]",
      "text/plain": [
       "<Figure size 640x480 with 1 Axes>"
      ]
     },
     "metadata": {},
     "output_type": "display_data"
    }
   ],
   "source": [
    "done, done_cap = env.get_done()\n",
    "plt.imshow(done_cap)"
   ]
  },
  {
   "cell_type": "code",
   "execution_count": 6,
   "id": "2843628c-b5c7-4212-a9b8-c462441b4b95",
   "metadata": {},
   "outputs": [
    {
     "data": {
      "text/plain": [
       "True"
      ]
     },
     "execution_count": 6,
     "metadata": {},
     "output_type": "execute_result"
    }
   ],
   "source": [
    "done"
   ]
  },
  {
   "cell_type": "code",
   "execution_count": 7,
   "id": "5f0bf8bd-2526-4f4e-bf64-9f7e4c94812b",
   "metadata": {},
   "outputs": [
    {
     "data": {
      "text/plain": [
       "array([[[33, 33, 33, ..., 33, 33, 33],\n",
       "        [33, 33, 33, ..., 33, 33, 33],\n",
       "        [33, 33, 33, ..., 33, 33, 33],\n",
       "        ...,\n",
       "        [33, 33, 33, ..., 33, 33, 33],\n",
       "        [33, 33, 33, ..., 33, 33, 33],\n",
       "        [33, 33, 33, ..., 33, 33, 33]]], dtype=uint8)"
      ]
     },
     "execution_count": 7,
     "metadata": {},
     "output_type": "execute_result"
    }
   ],
   "source": [
    "env.reset()"
   ]
  },
  {
   "cell_type": "code",
   "execution_count": 8,
   "id": "dc0b3ce3-01b7-40f6-987c-c77d629502ca",
   "metadata": {},
   "outputs": [
    {
     "name": "stdout",
     "output_type": "stream",
     "text": [
      "Episode:1   Reward:18\n",
      "Episode:2   Reward:11\n",
      "Episode:3   Reward:11\n",
      "Episode:4   Reward:13\n",
      "Episode:5   Reward:12\n"
     ]
    }
   ],
   "source": [
    "ep=5\n",
    "for epi in range(1,ep+1):\n",
    "    obs=env.reset()\n",
    "    done=False\n",
    "    total_reward=0\n",
    "    \n",
    "    while not done:\n",
    "        obs, reward, done, info=env.step(env.action_space.sample())\n",
    "        total_reward+=reward\n",
    "    print(f'Episode:{epi}   Reward:{total_reward}')"
   ]
  },
  {
   "cell_type": "code",
   "execution_count": 8,
   "id": "69dad432-3220-4bb8-9f8c-808e0f5bf017",
   "metadata": {},
   "outputs": [],
   "source": [
    "import os \n",
    "\n",
    "from stable_baselines3.common import env_checker\n",
    "from stable_baselines3 import DQN"
   ]
  },
  {
   "cell_type": "code",
   "execution_count": 9,
   "id": "023d452e-6c44-4584-a52b-b74a1b00f4f6",
   "metadata": {},
   "outputs": [],
   "source": [
    "env_checker.check_env(env)"
   ]
  },
  {
   "cell_type": "code",
   "execution_count": 10,
   "id": "08ba60dd-856a-438e-8f02-cd431e6636ca",
   "metadata": {},
   "outputs": [
    {
     "name": "stdout",
     "output_type": "stream",
     "text": [
      "Using cpu device\n",
      "Wrapping the env with a `Monitor` wrapper\n",
      "Wrapping the env in a DummyVecEnv.\n"
     ]
    },
    {
     "name": "stderr",
     "output_type": "stream",
     "text": [
      "C:\\Users\\vibhu\\OneDrive\\Documents\\env\\lib\\site-packages\\stable_baselines3\\common\\buffers.py:229: UserWarning: This system does not have apparently enough memory to store the complete replay buffer 16.62GB > 11.07GB\n",
      "  warnings.warn(\n"
     ]
    }
   ],
   "source": [
    "model = DQN('CnnPolicy', env, verbose=1)"
   ]
  },
  {
   "cell_type": "code",
   "execution_count": 11,
   "id": "5c31096a-6db0-434e-8e12-471eec1829db",
   "metadata": {},
   "outputs": [
    {
     "name": "stdout",
     "output_type": "stream",
     "text": [
      "----------------------------------\n",
      "| rollout/            |          |\n",
      "|    ep_len_mean      | 11       |\n",
      "|    ep_rew_mean      | 11       |\n",
      "|    exploration_rate | 0.05     |\n",
      "| time/               |          |\n",
      "|    episodes         | 4        |\n",
      "|    fps              | 1        |\n",
      "|    time_elapsed     | 29       |\n",
      "|    total_timesteps  | 44       |\n",
      "----------------------------------\n",
      "----------------------------------\n",
      "| rollout/            |          |\n",
      "|    ep_len_mean      | 12.1     |\n",
      "|    ep_rew_mean      | 12.1     |\n",
      "|    exploration_rate | 0.05     |\n",
      "| time/               |          |\n",
      "|    episodes         | 8        |\n",
      "|    fps              | 1        |\n",
      "|    time_elapsed     | 60       |\n",
      "|    total_timesteps  | 97       |\n",
      "----------------------------------\n"
     ]
    },
    {
     "data": {
      "text/plain": [
       "<stable_baselines3.dqn.dqn.DQN at 0x1a81bfeebf0>"
      ]
     },
     "execution_count": 11,
     "metadata": {},
     "output_type": "execute_result"
    }
   ],
   "source": [
    "model.learn(total_timesteps=100)"
   ]
  },
  {
   "cell_type": "code",
   "execution_count": 14,
   "id": "283c251a-287d-4963-9632-4a51b4c83ef1",
   "metadata": {},
   "outputs": [
    {
     "name": "stdout",
     "output_type": "stream",
     "text": [
      "Total Reward for episode 0 is 9\n",
      "Total Reward for episode 1 is 9\n",
      "Total Reward for episode 2 is 9\n",
      "Total Reward for episode 3 is 9\n",
      "Total Reward for episode 4 is 9\n"
     ]
    }
   ],
   "source": [
    "for episode in range(5): \n",
    "    obs = env.reset()\n",
    "    done = False\n",
    "    total_reward = 0\n",
    "    while not done: \n",
    "        action, _ = model.predict(obs)\n",
    "        obs, reward, done, info = env.step(int(action))\n",
    "        time.sleep(0.01)\n",
    "        total_reward += reward\n",
    "    print('Total Reward for episode {} is {}'.format(episode, total_reward))\n",
    "    time.sleep(2)"
   ]
  }
 ],
 "metadata": {
  "kernelspec": {
   "display_name": "env",
   "language": "python",
   "name": "env"
  },
  "language_info": {
   "codemirror_mode": {
    "name": "ipython",
    "version": 3
   },
   "file_extension": ".py",
   "mimetype": "text/x-python",
   "name": "python",
   "nbconvert_exporter": "python",
   "pygments_lexer": "ipython3",
   "version": "3.10.8"
  }
 },
 "nbformat": 4,
 "nbformat_minor": 5
}
